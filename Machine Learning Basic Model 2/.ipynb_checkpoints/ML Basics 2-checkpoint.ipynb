{
 "cells": [
  {
   "cell_type": "code",
   "execution_count": 1,
   "id": "a50ac90b",
   "metadata": {},
   "outputs": [],
   "source": [
    "#Import Necessary Libraries\n",
    "import pandas as pd\n",
    "from sklearn.linear_model import LogisticRegression\n",
    "import numpy as np\n",
    "from sklearn.model_selection import train_test"
   ]
  },
  {
   "cell_type": "code",
   "execution_count": null,
   "id": "ee216cbd",
   "metadata": {},
   "outputs": [],
   "source": [
    "#Loading the dataset and displaying the First Few Rows\n",
    "iris_data = pd.read_csv('iris.csv')\n",
    "iris_data.head()"
   ]
  },
  {
   "cell_type": "code",
   "execution_count": null,
   "id": "f149cdc5",
   "metadata": {},
   "outputs": [],
   "source": [
    "# Split the data into features (X) and labels(Y).\n",
    "x = iris_data.drop(columns=['petal.width', 'variety'])\n",
    "y = iris_data['variety']"
   ]
  },
  {
   "cell_type": "code",
   "execution_count": null,
   "id": "a3f1b390",
   "metadata": {},
   "outputs": [],
   "source": [
    "x.head()"
   ]
  },
  {
   "cell_type": "code",
   "execution_count": null,
   "id": "d4c1d8f9",
   "metadata": {},
   "outputs": [],
   "source": [
    "#Create a Ml model\n",
    "model = LogisticRegression()"
   ]
  },
  {
   "cell_type": "code",
   "execution_count": null,
   "id": "fb162998",
   "metadata": {},
   "outputs": [],
   "source": [
    "#train the Model\n",
    "model.fit(x.values, y)"
   ]
  },
  {
   "cell_type": "code",
   "execution_count": null,
   "id": "6d329b79",
   "metadata": {},
   "outputs": [],
   "source": [
    "predictions = model.predict([[4.6, 3.5, 1.5]])"
   ]
  },
  {
   "cell_type": "code",
   "execution_count": null,
   "id": "fe25d6ab",
   "metadata": {},
   "outputs": [],
   "source": [
    "print(predictions)"
   ]
  },
  {
   "cell_type": "code",
   "execution_count": null,
   "id": "bb8c7e1c",
   "metadata": {},
   "outputs": [],
   "source": []
  }
 ],
 "metadata": {
  "kernelspec": {
   "display_name": "Python 3 (ipykernel)",
   "language": "python",
   "name": "python3"
  },
  "language_info": {
   "codemirror_mode": {
    "name": "ipython",
    "version": 3
   },
   "file_extension": ".py",
   "mimetype": "text/x-python",
   "name": "python",
   "nbconvert_exporter": "python",
   "pygments_lexer": "ipython3",
   "version": "3.9.13"
  }
 },
 "nbformat": 4,
 "nbformat_minor": 5
}
